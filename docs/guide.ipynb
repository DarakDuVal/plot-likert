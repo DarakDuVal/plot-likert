{
 "cells": [
  {
   "cell_type": "markdown",
   "metadata": {},
   "source": [
    "# plot_likert guide\n",
    "\n",
    "Welcome! This notebook aims to introduce you to the usage and options of plot_likert.  \n",
    "Have questions or suggestions for improvement? Feel free to open an issue!"
   ]
  },
  {
   "cell_type": "markdown",
   "metadata": {},
   "source": [
    "### Prerequisites"
   ]
  },
  {
   "cell_type": "markdown",
   "metadata": {},
   "source": [
    "First, obviously, you'll need plot_likert itself. See homepage for installation instructions."
   ]
  },
  {
   "cell_type": "code",
   "execution_count": 1,
   "metadata": {},
   "outputs": [],
   "source": [
    "import plot_likert"
   ]
  },
  {
   "cell_type": "markdown",
   "metadata": {},
   "source": [
    "plot_likert operates on [Pandas](https://pandas.pydata.org/) [DataFrames](https://pandas.pydata.org/pandas-docs/stable/reference/api/pandas.DataFrame.html), so you'll need Pandas as well."
   ]
  },
  {
   "cell_type": "code",
   "execution_count": 2,
   "metadata": {},
   "outputs": [],
   "source": [
    "import pandas as pd"
   ]
  },
  {
   "cell_type": "markdown",
   "metadata": {},
   "source": [
    "Pandas uses [NumPy](https://numpy.org/) under the hood. You won't need it directly, but this notebook will use it for a couple of things, like random number generation."
   ]
  },
  {
   "cell_type": "code",
   "execution_count": 3,
   "metadata": {},
   "outputs": [],
   "source": [
    "import numpy as np"
   ]
  },
  {
   "cell_type": "markdown",
   "metadata": {},
   "source": [
    "# Quick start\n",
    "\n",
    "If you have the data in the right format, you can make a plot with just one line of code!  \n",
    "\n",
    "So, let's get some data:"
   ]
  },
  {
   "cell_type": "code",
   "execution_count": 4,
   "metadata": {},
   "outputs": [],
   "source": [
    "rng = np.random.default_rng(seed=42)\n",
    "data = pd.DataFrame(rng.choice(plot_likert.scales.agree, (10,2)), columns=['Q1','Q2'])"
   ]
  },
  {
   "cell_type": "markdown",
   "metadata": {},
   "source": [
    "and now, the magic happens:"
   ]
  },
  {
   "cell_type": "code",
   "execution_count": 5,
   "metadata": {},
   "outputs": [
    {
     "data": {
      "image/png": "[encoded data removed]",
      "text/plain": [
       "<Figure size 432x288 with 1 Axes>"
      ]
     },
     "metadata": {
      "needs_background": "light"
     },
     "output_type": "display_data"
    }
   ],
   "source": [
    "plot_likert.plot_likert(data, plot_likert.scales.agree);"
   ]
  },
  {
   "cell_type": "markdown",
   "metadata": {},
   "source": [
    "# Inputs\n",
    "\n",
    "Now you know how easy it can be to start using plot_likert. But we said that the data has to be in the right format. What does that mean exactly? Let's take a look at what we passed in to the function:"
   ]
  },
  {
   "cell_type": "code",
   "execution_count": 6,
   "metadata": {},
   "outputs": [
    {
     "data": {
      "text/html": [
       "<div>\n",
       "<style scoped>\n",
       "    .dataframe tbody tr th:only-of-type {\n",
       "        vertical-align: middle;\n",
       "    }\n",
       "\n",
       "    .dataframe tbody tr th {\n",
       "        vertical-align: top;\n",
       "    }\n",
       "\n",
       "    .dataframe thead th {\n",
       "        text-align: right;\n",
       "    }\n",
       "</style>\n",
       "<table border=\"1\" class=\"dataframe\">\n",
       "  <thead>\n",
       "    <tr style=\"text-align: right;\">\n",
       "      <th></th>\n",
       "      <th>Q1</th>\n",
       "      <th>Q2</th>\n",
       "    </tr>\n",
       "  </thead>\n",
       "  <tbody>\n",
       "    <tr>\n",
       "      <th>0</th>\n",
       "      <td>Strongly disagree</td>\n",
       "      <td>Agree</td>\n",
       "    </tr>\n",
       "    <tr>\n",
       "      <th>1</th>\n",
       "      <td>Agree</td>\n",
       "      <td>Neither agree nor disagree</td>\n",
       "    </tr>\n",
       "    <tr>\n",
       "      <th>2</th>\n",
       "      <td>Neither agree nor disagree</td>\n",
       "      <td>Strongly agree</td>\n",
       "    </tr>\n",
       "    <tr>\n",
       "      <th>3</th>\n",
       "      <td>Strongly disagree</td>\n",
       "      <td>Agree</td>\n",
       "    </tr>\n",
       "    <tr>\n",
       "      <th>4</th>\n",
       "      <td>Disagree</td>\n",
       "      <td>Strongly disagree</td>\n",
       "    </tr>\n",
       "    <tr>\n",
       "      <th>5</th>\n",
       "      <td>Neither agree nor disagree</td>\n",
       "      <td>Strongly agree</td>\n",
       "    </tr>\n",
       "    <tr>\n",
       "      <th>6</th>\n",
       "      <td>Agree</td>\n",
       "      <td>Agree</td>\n",
       "    </tr>\n",
       "    <tr>\n",
       "      <th>7</th>\n",
       "      <td>Agree</td>\n",
       "      <td>Agree</td>\n",
       "    </tr>\n",
       "    <tr>\n",
       "      <th>8</th>\n",
       "      <td>Neither agree nor disagree</td>\n",
       "      <td>Strongly disagree</td>\n",
       "    </tr>\n",
       "    <tr>\n",
       "      <th>9</th>\n",
       "      <td>Strongly agree</td>\n",
       "      <td>Neither agree nor disagree</td>\n",
       "    </tr>\n",
       "  </tbody>\n",
       "</table>\n",
       "</div>"
      ],
      "text/plain": [
       "                           Q1                          Q2\n",
       "0           Strongly disagree                       Agree\n",
       "1                       Agree  Neither agree nor disagree\n",
       "2  Neither agree nor disagree              Strongly agree\n",
       "3           Strongly disagree                       Agree\n",
       "4                    Disagree           Strongly disagree\n",
       "5  Neither agree nor disagree              Strongly agree\n",
       "6                       Agree                       Agree\n",
       "7                       Agree                       Agree\n",
       "8  Neither agree nor disagree           Strongly disagree\n",
       "9              Strongly agree  Neither agree nor disagree"
      ]
     },
     "execution_count": 6,
     "metadata": {},
     "output_type": "execute_result"
    }
   ],
   "source": [
    "data"
   ]
  },
  {
   "cell_type": "markdown",
   "metadata": {},
   "source": [
    "To make our assumptions explicit:\n",
    "\n",
    "1. The input has to be a [Pandas](https://pandas.pydata.org/) [DataFrame](https://pandas.pydata.org/pandas-docs/stable/reference/api/pandas.DataFrame.html)\n",
    "2. Each row represents a response from a single respondent\n",
    "3. Each cell contains their response, preferably as a string\n",
    "4. Each column represents a different question asked to each respondent"
   ]
  },
  {
   "cell_type": "markdown",
   "metadata": {},
   "source": [
    "## Scales\n",
    "The second input to the `plot_likert` function is the _scale_ you're using for your questions,\n",
    "i.e., your questions' answer choices.  \n",
    "Here's what it looked like for the dataset above:"
   ]
  },
  {
   "cell_type": "code",
   "execution_count": 7,
   "metadata": {},
   "outputs": [
    {
     "data": {
      "text/plain": [
       "['Strongly disagree',\n",
       " 'Disagree',\n",
       " 'Neither agree nor disagree',\n",
       " 'Agree',\n",
       " 'Strongly agree']"
      ]
     },
     "execution_count": 7,
     "metadata": {},
     "output_type": "execute_result"
    }
   ],
   "source": [
    "plot_likert.scales.agree"
   ]
  },
  {
   "cell_type": "markdown",
   "metadata": {},
   "source": [
    "You need to specify the scale explicitly because plot_likert needs to know the order of the scale (for colors and sorting), and in case there are any values in the scale that aren't represented in your dataset."
   ]
  },
  {
   "cell_type": "markdown",
   "metadata": {},
   "source": [
    "The scale is an array of strings, so you can construct one yourself."
   ]
  },
  {
   "cell_type": "code",
   "execution_count": 8,
   "metadata": {},
   "outputs": [],
   "source": [
    "another_scale = \\\n",
    "    ['strongly disagree',\n",
    "     'disagree',\n",
    "     'neither agree nor disagree',\n",
    "     'agree',\n",
    "     'strongly agree']"
   ]
  },
  {
   "cell_type": "markdown",
   "metadata": {},
   "source": [
    "### Scale must match inputs exactly\n",
    "\n",
    "The scale you pass in must match the data exactly, otherwise a `PlotLikertError` is raised.\n",
    "For example, the scale we just constructed has the fields in lower-case, but the data has the words capitalized. Trying to plot now throws an exception."
   ]
  },
  {
   "cell_type": "code",
   "execution_count": 9,
   "metadata": {},
   "outputs": [
    {
     "name": "stderr",
     "output_type": "stream",
     "text": [
      "Oh no, something went wrong! The message in the exception is:\n",
      "A response was found with value `Strongly disagree`, which is not one of the values in the provided scale: ['strongly disagree', 'disagree', 'neither agree nor disagree', 'agree', 'strongly agree']. If this is unexpected, you might want to double-check for extra whitespace, capitalization, spelling, or type (int versus str).\n"
     ]
    }
   ],
   "source": [
    "try:\n",
    "    plot_likert.plot_likert(data, another_scale);\n",
    "    print(\"Yay, everything worked!\")\n",
    "except plot_likert.PlotLikertError as e:\n",
    "    import sys\n",
    "    print(\"Oh no, something went wrong! The message in the exception is:\\n\" + str(e), file=sys.stderr)"
   ]
  },
  {
   "cell_type": "markdown",
   "metadata": {},
   "source": [
    "### Bundled scales\n",
    "\n",
    "For your convenience, plot_likert [includes some commonly used scales](https://github.com/nmalkin/plot-likert/blob/master/plot_likert/scales.py), for example:"
   ]
  },
  {
   "cell_type": "code",
   "execution_count": 10,
   "metadata": {},
   "outputs": [
    {
     "data": {
      "text/plain": [
       "['Completely unacceptable',\n",
       " 'Somewhat unacceptable',\n",
       " 'Neutral',\n",
       " 'Somewhat acceptable',\n",
       " 'Completely acceptable']"
      ]
     },
     "execution_count": 10,
     "metadata": {},
     "output_type": "execute_result"
    }
   ],
   "source": [
    "plot_likert.scales.acceptable"
   ]
  },
  {
   "cell_type": "code",
   "execution_count": 11,
   "metadata": {},
   "outputs": [
    {
     "data": {
      "text/plain": [
       "['1', '2', '3', '4', '5']"
      ]
     },
     "execution_count": 11,
     "metadata": {},
     "output_type": "execute_result"
    }
   ],
   "source": [
    "plot_likert.scales.raw5"
   ]
  },
  {
   "cell_type": "markdown",
   "metadata": {},
   "source": [
    "If you'd like to add a scale, please open a pull request."
   ]
  },
  {
   "cell_type": "markdown",
   "metadata": {},
   "source": [
    "### Missing data\n",
    "\n",
    "If not all of your respondents answered every question, you might have empty cells.\n",
    "This works fine.\n",
    "However, you'll get [a warning](https://docs.python.org/3/library/warnings.html) if you're plotting percentages (see below)."
   ]
  },
  {
   "cell_type": "code",
   "execution_count": 12,
   "metadata": {},
   "outputs": [],
   "source": [
    "missing_data = data.copy()\n",
    "missing_data.iloc[0,0] = np.NaN\n",
    "\n",
    "# This produces a warning:\n",
    "#plot_likert.plot_likert(missing_data, plot_likert.scales.agree, plot_percentage=True);"
   ]
  },
  {
   "cell_type": "markdown",
   "metadata": {},
   "source": [
    "# Plotting percentages\n",
    "\n",
    "Often, instead of plotting the raw number of responses, you'll want to plot the percentage of respondents who answered a certain way. You can do this by setting the argument `plot_percentage=True`:"
   ]
  },
  {
   "cell_type": "code",
   "execution_count": 13,
   "metadata": {},
   "outputs": [
    {
     "data": {
      "image/png": "[encoded data removed]",
      "text/plain": [
       "<Figure size 432x288 with 1 Axes>"
      ]
     },
     "metadata": {
      "needs_background": "light"
     },
     "output_type": "display_data"
    }
   ],
   "source": [
    "plot_likert.plot_likert(data, plot_likert.scales.agree,\n",
    "                        plot_percentage=True);"
   ]
  },
  {
   "cell_type": "markdown",
   "metadata": {},
   "source": [
    "# Customizing colors\n",
    "\n",
    "You can change the colors used in the plot by passing in an array of color values as the `colors` argument:"
   ]
  },
  {
   "cell_type": "code",
   "execution_count": 14,
   "metadata": {},
   "outputs": [
    {
     "data": {
      "image/png": "[encoded data removed]",
      "text/plain": [
       "<Figure size 432x288 with 1 Axes>"
      ]
     },
     "metadata": {
      "needs_background": "light"
     },
     "output_type": "display_data"
    }
   ],
   "source": [
    "plot_likert.plot_likert(data, plot_likert.scales.agree,\n",
    "                        colors=plot_likert.colors.likert5);"
   ]
  },
  {
   "cell_type": "markdown",
   "metadata": {},
   "source": [
    "This is mandatory if you're using a scale that has more than 5 values.\n",
    "\n",
    "Some default color schemes [are provided under `plot_likert.colors`](https://github.com/nmalkin/plot-likert/blob/master/plot_likert/colors.py).\n",
    "A color scheme is just an array of [matplotlib color values](https://matplotlib.org/tutorials/colors/colors.html), so you can also construct your own."
   ]
  },
  {
   "cell_type": "markdown",
   "metadata": {},
   "source": [
    "# Changing the figure size\n",
    "\n",
    "The default size of the plot can be pretty cramped. You can adjust the figure size using the `figsize` argument. This specifies the dimensions of the figure in inches. This argument is passed directly to [matplotlib](https://matplotlib.org), so [see its documentation](https://matplotlib.org/api/_as_gen/matplotlib.pyplot.figure.html) for any questions."
   ]
  },
  {
   "cell_type": "code",
   "execution_count": 15,
   "metadata": {},
   "outputs": [
    {
     "data": {
      "image/png": "[encoded data removed]",
      "text/plain": [
       "<Figure size 720x216 with 1 Axes>"
      ]
     },
     "metadata": {
      "needs_background": "light"
     },
     "output_type": "display_data"
    }
   ],
   "source": [
    "plot_likert.plot_likert(data, plot_likert.scales.agree,\n",
    "                        figsize=(10,3));"
   ]
  },
  {
   "cell_type": "markdown",
   "metadata": {},
   "source": [
    "You can do more advanced customization too:"
   ]
  },
  {
   "cell_type": "markdown",
   "metadata": {},
   "source": [
    "# Controlling the plot\n",
    "\n",
    "The plotting function returns a [matplotlib Axes object](https://matplotlib.org/api/axes_api.html#matplotlib.axes.Axes), which you can use to customize the figure, just as you would with any other matplotlib plot.\n",
    "\n",
    "Here's a quick example:"
   ]
  },
  {
   "cell_type": "code",
   "execution_count": 16,
   "metadata": {},
   "outputs": [
    {
     "data": {
      "image/png": "[encoded data removed]",
      "text/plain": [
       "<Figure size 576x144 with 1 Axes>"
      ]
     },
     "metadata": {
      "needs_background": "light"
     },
     "output_type": "display_data"
    }
   ],
   "source": [
    "ax = plot_likert.plot_likert(data, plot_likert.scales.agree)\n",
    "\n",
    "ax.figure.set_size_inches(8, 2)\n",
    "ax.xaxis.set_label_text('# of awesome people');\n",
    "ax.set_yticklabels(['Second question', 'First question']);"
   ]
  },
  {
   "cell_type": "markdown",
   "metadata": {},
   "source": [
    "Instead of manipulating the axes after they've been returned, you can also pass them in first, to enable even more advanced customization:"
   ]
  },
  {
   "cell_type": "markdown",
   "metadata": {
    "tags": []
   },
   "source": [
    "# More advanced plots\n",
    "\n",
    "You can pass a [matplotlib Axis](https://matplotlib.org/stable/api/axes_api.html#matplotlib.axes.Axes) and other options as arguments in order to build more advanced plots. These values will be passed through to [pandas.DataFrame.plot](https://pandas.pydata.org/docs/reference/api/pandas.DataFrame.plot.html) (which in turn may pass some of them through to matplotlib); see its documentation for details."
   ]
  },
  {
   "cell_type": "code",
   "execution_count": 17,
   "metadata": {},
   "outputs": [],
   "source": [
    "# We import matplotlib in order to control the whole figure.\n",
    "import matplotlib.pyplot as plt"
   ]
  },
  {
   "cell_type": "markdown",
   "metadata": {},
   "source": [
    "In this example, we're plotting two Likert plots side-by-side for comparison purposes — in this case, comparing absolute values vs percentages. Notice that we're using different bar widths."
   ]
  },
  {
   "cell_type": "code",
   "execution_count": 18,
   "metadata": {},
   "outputs": [
    {
     "data": {
      "image/png": "[encoded data removed]",
      "text/plain": [
       "<Figure size 1080x216 with 2 Axes>"
      ]
     },
     "metadata": {
      "needs_background": "light"
     },
     "output_type": "display_data"
    }
   ],
   "source": [
    "fig, (ax1, ax2) = plt.subplots(nrows=1, ncols=2, figsize=(15,3))\n",
    "plot_likert.plot_likert(data, plot_likert.scales.agree, \n",
    "                        plot_percentage=False,  # show absolute values\n",
    "                        ax=ax1,  # show on the left-side subplot\n",
    "                        legend=0,  # hide the legend for the subplot, we'll show a single figure legend instead                        \n",
    "                       );\n",
    "plot_likert.plot_likert(data, plot_likert.scales.agree, \n",
    "                        plot_percentage=True,  # show percentage values\n",
    "                        ax=ax2,  # show on the right-side subplot\n",
    "                        legend=0,  # hide the legend for the subplot, we'll show a single figure legend instead\n",
    "                        width=0.15  # make the bars slimmer\n",
    "                       );\n",
    "\n",
    "# display a single legend for the whole figure\n",
    "handles, labels = ax2.get_legend_handles_labels()\n",
    "fig.legend(handles, labels, bbox_to_anchor=(1.08, .9))\n",
    "plt.show()"
   ]
  },
  {
   "cell_type": "markdown",
   "metadata": {},
   "source": [
    "# Plotting already-aggregated data\n",
    "\n",
    "The `plot_likert` function we've been using operates on \"raw\" responses:\n",
    "a DataFrame that has a row for each response (as discussed above).\n",
    "However, it's possible your data has a different shape,\n",
    "and/or you have already aggregated the data,\n",
    "and just want to plot it.\n",
    "plot_likert provides a solution for this too!\n",
    "\n",
    "Just take your aggregated counts:"
   ]
  },
  {
   "cell_type": "code",
   "execution_count": 19,
   "metadata": {},
   "outputs": [
    {
     "data": {
      "text/html": [
       "<div>\n",
       "<style scoped>\n",
       "    .dataframe tbody tr th:only-of-type {\n",
       "        vertical-align: middle;\n",
       "    }\n",
       "\n",
       "    .dataframe tbody tr th {\n",
       "        vertical-align: top;\n",
       "    }\n",
       "\n",
       "    .dataframe thead th {\n",
       "        text-align: right;\n",
       "    }\n",
       "</style>\n",
       "<table border=\"1\" class=\"dataframe\">\n",
       "  <thead>\n",
       "    <tr style=\"text-align: right;\">\n",
       "      <th></th>\n",
       "      <th>Strongly disagree</th>\n",
       "      <th>Disagree</th>\n",
       "      <th>Neither agree nor disagree</th>\n",
       "      <th>Agree</th>\n",
       "      <th>Strongly agree</th>\n",
       "    </tr>\n",
       "  </thead>\n",
       "  <tbody>\n",
       "    <tr>\n",
       "      <th>Q1</th>\n",
       "      <td>2.0</td>\n",
       "      <td>1.0</td>\n",
       "      <td>3.0</td>\n",
       "      <td>3.0</td>\n",
       "      <td>1.0</td>\n",
       "    </tr>\n",
       "    <tr>\n",
       "      <th>Q2</th>\n",
       "      <td>2.0</td>\n",
       "      <td>0.0</td>\n",
       "      <td>2.0</td>\n",
       "      <td>4.0</td>\n",
       "      <td>2.0</td>\n",
       "    </tr>\n",
       "  </tbody>\n",
       "</table>\n",
       "</div>"
      ],
      "text/plain": [
       "    Strongly disagree  Disagree  Neither agree nor disagree  Agree  \\\n",
       "Q1                2.0       1.0                         3.0    3.0   \n",
       "Q2                2.0       0.0                         2.0    4.0   \n",
       "\n",
       "    Strongly agree  \n",
       "Q1             1.0  \n",
       "Q2             2.0  "
      ]
     },
     "execution_count": 19,
     "metadata": {},
     "output_type": "execute_result"
    }
   ],
   "source": [
    "precomputed_counts = pd.DataFrame(\n",
    "    {'Strongly disagree': {'Q1': 2.0, 'Q2': 2.0},\n",
    "     'Disagree': {'Q1': 1.0, 'Q2': 0.0},\n",
    "     'Neither agree nor disagree': {'Q1': 3.0, 'Q2': 2.0},\n",
    "     'Agree': {'Q1': 3.0, 'Q2': 4.0},\n",
    "     'Strongly agree': {'Q1': 1.0, 'Q2': 2.0}}\n",
    ")\n",
    "precomputed_counts"
   ]
  },
  {
   "cell_type": "markdown",
   "metadata": {},
   "source": [
    "…and pass them to the `plot_counts` function:"
   ]
  },
  {
   "cell_type": "code",
   "execution_count": 20,
   "metadata": {},
   "outputs": [
    {
     "data": {
      "image/png": "[encoded data removed]",
      "text/plain": [
       "<Figure size 432x288 with 1 Axes>"
      ]
     },
     "metadata": {
      "needs_background": "light"
     },
     "output_type": "display_data"
    }
   ],
   "source": [
    "plot_likert.plot_counts(precomputed_counts, plot_likert.scales.agree);"
   ]
  },
  {
   "cell_type": "markdown",
   "metadata": {},
   "source": [
    "Voilà!\n",
    "\n",
    "`plot_counts` takes the same arguments documented above, so you can customize the plot exactly the same way."
   ]
  }
 ],
 "metadata": {
  "kernelspec": {
   "display_name": "Python 3 (ipykernel)",
   "language": "python",
   "name": "python3"
  },
  "language_info": {
   "codemirror_mode": {
    "name": "ipython",
    "version": 3
   },
   "file_extension": ".py",
   "mimetype": "text/x-python",
   "name": "python",
   "nbconvert_exporter": "python",
   "pygments_lexer": "ipython3",
   "version": "3.10.1"
  }
 },
 "nbformat": 4,
 "nbformat_minor": 4
}
